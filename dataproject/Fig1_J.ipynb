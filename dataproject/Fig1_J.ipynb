{
 "cells": [
  {
   "cell_type": "code",
   "execution_count": 2,
   "metadata": {},
   "outputs": [
    {
     "data": {
      "application/vnd.jupyter.widget-view+json": {
       "model_id": "523bb612942348f0b00630045c1d6abf",
       "version_major": 2,
       "version_minor": 0
      },
      "text/plain": [
       "interactive(children=(Checkbox(value=True, description='0'), Checkbox(value=True, description='0-10'), Checkbo…"
      ]
     },
     "metadata": {},
     "output_type": "display_data"
    }
   ],
   "source": [
    "import numpy as np\n",
    "import matplotlib.pyplot as plt\n",
    "import pandas as pd\n",
    "import ipywidgets as widgets\n",
    "import seaborn as sns\n",
    "from data_gen import gen_df\n",
    "\n",
    "def fig1_J():\n",
    "    # Importing data and making new dataframe\n",
    "    filename = 'imdb.csv'\n",
    "    df = gen_df(filename)\n",
    "    imdb = df.copy()\n",
    "    \n",
    "    # Creating variable that groups number of wins\n",
    "    imdb['nrw'] = 0\n",
    "    imdb.loc[(imdb['nrOfWins'] > 0) & (imdb['nrOfWins'] < 10), ['nrw']] = 1\n",
    "    imdb.loc[(imdb['nrOfWins'] >= 10) & (imdb['nrOfWins'] < 20), ['nrw']] = 2\n",
    "    imdb.loc[(imdb['nrOfWins'] >= 20) & (imdb['nrOfWins'] < 30), ['nrw']] = 3\n",
    "    imdb.loc[(imdb['nrOfWins'] >= 30) & (imdb['nrOfWins'] < 40), ['nrw']] = 4\n",
    "    imdb.loc[(imdb['nrOfWins'] >= 40), ['nrw']] = 5\n",
    "    nrwins = ['0', '0-10', '10-20', '20-30', '30-40', '40+']\n",
    "\n",
    "    # Defining function to plot figure\n",
    "    def fig(df, index_0, index_1, index_2, index_3, index_4, index_5):\n",
    "        \n",
    "        # Make lists and a temporaty dataframe to make the plot\n",
    "        temp = df.copy()\n",
    "        index = [index_0, index_1, index_2, index_3, index_4, index_5]\n",
    "        color = ['orange', 'blue', 'green', 'red', 'turquoise', 'black']\n",
    "        \n",
    "        # Loop over kategory to plot their rating distribution and plot the distribution\n",
    "        for i,val in enumerate(nrwins):\n",
    "            nrwins_i = temp.loc[(temp['nrw'] == i)]\n",
    "            if index[i] == True:  # Only plot distribution if box is 'checked'\n",
    "                sns.distplot(nrwins_i['imdbRating'], hist = False, kde = True,\n",
    "                         kde_kws = {'linewidth': 2}, label = val, color=color[i]\n",
    "                     )\n",
    "        plt.legend(loc='upper left')\n",
    "        plt.title('IMDB rating conditioned on numbers of award wins')\n",
    "        plt.xlabel('IMDB rating')\n",
    "        plt.ylabel('Density')\n",
    "    \n",
    "    # Interactive part: Making checkbox win-categories\n",
    "    widgets.interact(fig,\n",
    "        df=widgets.fixed(imdb),\n",
    "        index_0=widgets.Checkbox(description=nrwins[0], value=True, disabled=False),\n",
    "        index_1=widgets.Checkbox(description=nrwins[1], value=True, disabled=False),\n",
    "        index_2=widgets.Checkbox(description=nrwins[2], value=True, disabled=False),\n",
    "        index_3=widgets.Checkbox(description=nrwins[3], value=True, disabled=False),\n",
    "        index_4=widgets.Checkbox(description=nrwins[4], value=True, disabled=False),\n",
    "        index_5=widgets.Checkbox(description=nrwins[5], value=True, disabled=False),\n",
    "    );\n",
    "\n",
    "fig1_J()"
   ]
  }
 ],
 "metadata": {
  "kernelspec": {
   "display_name": "Python 3",
   "language": "python",
   "name": "python3"
  },
  "language_info": {
   "codemirror_mode": {
    "name": "ipython",
    "version": 3
   },
   "file_extension": ".py",
   "mimetype": "text/x-python",
   "name": "python",
   "nbconvert_exporter": "python",
   "pygments_lexer": "ipython3",
   "version": "3.7.1"
  }
 },
 "nbformat": 4,
 "nbformat_minor": 2
}