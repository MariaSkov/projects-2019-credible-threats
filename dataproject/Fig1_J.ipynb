{
 "cells": [
  {
   "cell_type": "code",
   "execution_count": 79,
   "metadata": {},
   "outputs": [
    {
     "data": {
      "application/vnd.jupyter.widget-view+json": {
       "model_id": "0931ec12180742a39da8f3fe5d798494",
       "version_major": 2,
       "version_minor": 0
      },
      "text/plain": [
       "interactive(children=(Checkbox(value=True, description='0'), Checkbox(value=True, description='0-5'), Checkbox…"
      ]
     },
     "metadata": {},
     "output_type": "display_data"
    }
   ],
   "source": [
    "import numpy as np\n",
    "import matplotlib.pyplot as plt\n",
    "import pandas as pd\n",
    "import ipywidgets as widgets\n",
    "import seaborn as sns\n",
    "\n",
    "from data_gen_test import gen_df\n",
    "\n",
    "filename = 'imdb.csv'\n",
    "df = gen_df(filename)\n",
    "imdb = df.copy()\n",
    "\n",
    "imdb['nrw'] = 0\n",
    "imdb.loc[(imdb['nrOfWins'] > 0) & (imdb['nrOfWins'] < 5), ['nrw']] = 1\n",
    "imdb.loc[(imdb['nrOfWins'] >= 5) & (imdb['nrOfWins'] < 10), ['nrw']] = 2\n",
    "imdb.loc[(imdb['nrOfWins'] >= 10) & (imdb['nrOfWins'] < 15), ['nrw']] = 3\n",
    "imdb.loc[(imdb['nrOfWins'] >= 15) & (imdb['nrOfWins'] < 20), ['nrw']] = 4\n",
    "imdb.loc[(imdb['nrOfWins'] >= 20) & (imdb['nrOfWins'] < 25), ['nrw']] = 5\n",
    "imdb.loc[(imdb['nrOfWins'] >= 25) & (imdb['nrOfWins'] < 30), ['nrw']] = 6\n",
    "imdb.loc[(imdb['nrOfWins'] >= 30) & (imdb['nrOfWins'] < 35), ['nrw']] = 7\n",
    "imdb.loc[(imdb['nrOfWins'] >= 35) & (imdb['nrOfWins'] < 40), ['nrw']] = 8\n",
    "imdb.loc[(imdb['nrOfWins'] >= 40), ['nrw']] = 9\n",
    "nrwins = ['0', '0-5', '5-10', '10-15', '15-20', '20-25', '25-30', '30-35', '35-40', '40+']\n",
    "\n",
    "\n",
    "\n",
    "def fig(df, index_0, index_1, index_2, index_3, index_4, index_5, index_6, index_7, index_8, index_9):\n",
    "    temp = df.copy()\n",
    "    index = [index_0, index_1, index_2, index_3, index_4, index_5, index_6, index_7, index_8, index_9]\n",
    "    for i,val in enumerate(nrwins):\n",
    "        nrwins_i = temp.loc[(temp['nrw'] == i)]\n",
    "        if index[i] == True:\n",
    "            sns.distplot(nrwins_i['imdbRating'], hist = False, kde = True,\n",
    "                     kde_kws = {'linewidth': 2}, label = val \n",
    "                 )\n",
    "    plt.legend(loc='upper left')\n",
    "    plt.title('IMDB rating conditioned on numbers of award wins')\n",
    "    plt.xlabel('IMDB rating')\n",
    "    plt.ylabel('Density')\n",
    "    \n",
    "#fig(imdb)\n",
    "widgets.interact(fig,\n",
    "    df=widgets.fixed(imdb),\n",
    "    index_0=widgets.Checkbox(description=nrwins[0], value=True, disabled=False),\n",
    "    index_1=widgets.Checkbox(description=nrwins[1], value=True, disabled=False),\n",
    "    index_2=widgets.Checkbox(description=nrwins[2], value=True, disabled=False),\n",
    "    index_3=widgets.Checkbox(description=nrwins[3], value=True, disabled=False),\n",
    "    index_4=widgets.Checkbox(description=nrwins[4], value=True, disabled=False),\n",
    "    index_5=widgets.Checkbox(description=nrwins[5], value=True, disabled=False),\n",
    "    index_6=widgets.Checkbox(description=nrwins[6], value=True, disabled=False),\n",
    "    index_7=widgets.Checkbox(description=nrwins[7], value=True, disabled=False),\n",
    "    index_8=widgets.Checkbox(description=nrwins[8], value=True, disabled=False),\n",
    "    index_9=widgets.Checkbox(description=nrwins[9], value=True, disabled=False),\n",
    ");\n",
    "\n",
    "#, index0, index1, index2, index3, index4, index5, index6, index7, index8, index9"
   ]
  },
  {
   "cell_type": "code",
   "execution_count": null,
   "metadata": {},
   "outputs": [],
   "source": [
    "\n",
    "        "
   ]
  }
 ],
 "metadata": {
  "kernelspec": {
   "display_name": "Python 3",
   "language": "python",
   "name": "python3"
  },
  "language_info": {
   "codemirror_mode": {
    "name": "ipython",
    "version": 3
   },
   "file_extension": ".py",
   "mimetype": "text/x-python",
   "name": "python",
   "nbconvert_exporter": "python",
   "pygments_lexer": "ipython3",
   "version": "3.7.1"
  }
 },
 "nbformat": 4,
 "nbformat_minor": 2
}
