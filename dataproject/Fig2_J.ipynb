{
 "cells": [
  {
   "cell_type": "code",
   "execution_count": 39,
   "metadata": {},
   "outputs": [
    {
     "data": {
      "application/vnd.jupyter.widget-view+json": {
       "model_id": "bfcf5bfe0a62453c990b21f4d7c86e75",
       "version_major": 2,
       "version_minor": 0
      },
      "text/plain": [
       "interactive(children=(Dropdown(description='Time unit', layout=Layout(width='175px'), options=('year', 'decade…"
      ]
     },
     "metadata": {},
     "output_type": "display_data"
    }
   ],
   "source": [
    "import numpy as np\n",
    "import matplotlib.pyplot as plt\n",
    "import pandas as pd\n",
    "import ipywidgets as widgets\n",
    "from ipywidgets import Layout\n",
    "from data_gen import gen_df\n",
    "\n",
    "\n",
    "\n",
    "def fig3_J():\n",
    "    # Importing data and making new dataframe\n",
    "    filename = 'imdb.csv'\n",
    "    df = gen_df(filename)\n",
    "    imdb = df.copy()\n",
    "    \n",
    "    time_var = ['year', 'decade']\n",
    "    decades = [1920, 1930, 1940, 1950, 1960, 1970, 1980, 1990, 2000, 2010]\n",
    "    \n",
    "    def fig(time_var):    \n",
    "        \n",
    "        # Creating variable that takes the average IMDB rating per year\n",
    "        imdb['avg_rat'] = imdb.groupby(time_var)['imdbRating'].transform(lambda x : x.mean())\n",
    "        imdb['avg_rat_index'] = imdb['avg_rat'].transform(lambda x : x/x[0]*100)\n",
    "        \n",
    "        # Make new dataframe that only take one value per year. \n",
    "        # The dataframe only contain the year indicator and number of movies in the given year\n",
    "        y = pd.DataFrame(imdb.groupby(time_var)['avg_rat'].first())\n",
    "        y.reset_index(inplace=True)\n",
    "        x = pd.DataFrame(imdb.groupby(time_var)['avg_rat_index'].first())\n",
    "        x.reset_index(inplace=True)\n",
    "\n",
    "        #y['avg_rat_index'] = y['avg_rat']/y['avg_rat'][0]*100\n",
    "\n",
    "        fig = plt.figure(figsize=(13,6))\n",
    "        \n",
    "        ax1 = fig.add_subplot(1,2,1)\n",
    "        ax1.plot(y[time_var], y['avg_rat'], color='black')\n",
    "        ax1.set_ylabel('Average rating')\n",
    "        ax1.set_title(f'Average IMDB rating, 1920-2013')\n",
    "        ax1.set_ylim([0,10])\n",
    "\n",
    "        ax2 = fig.add_subplot(1,2,2)\n",
    "        ax2.plot(x[time_var], x['avg_rat_index'], color='black')\n",
    "        ax2.set_ylabel(f'Index: 1920=100')\n",
    "        ax2.set_title(f'Normalized average of IMDB rating, 1920-2013')\n",
    "        ax2.set_ylim([80,105])\n",
    "        \n",
    "        if time_var == 'year':            \n",
    "            ax1.set_xticks(decades)\n",
    "            every_nth = 1\n",
    "            for n, label in enumerate(ax1.xaxis.get_ticklabels()):\n",
    "                if n % every_nth != 0:\n",
    "                    label.set_visible(False)\n",
    "            \n",
    "            ax2.set_xticks(decades)\n",
    "            every_nth = 1\n",
    "            for n, label in enumerate(ax2.xaxis.get_ticklabels()):\n",
    "                if n % every_nth != 0:\n",
    "                    label.set_visible(False)\n",
    "                    \n",
    "    widgets.interact(fig,\n",
    "        time_var = widgets.Dropdown(description='Time unit', value='year', options=time_var, \n",
    "                    layout=Layout(width='175px')),\n",
    "    );    \n",
    "\n",
    "fig3_J()"
   ]
  }
 ],
 "metadata": {
  "kernelspec": {
   "display_name": "Python 3",
   "language": "python",
   "name": "python3"
  },
  "language_info": {
   "codemirror_mode": {
    "name": "ipython",
    "version": 3
   },
   "file_extension": ".py",
   "mimetype": "text/x-python",
   "name": "python",
   "nbconvert_exporter": "python",
   "pygments_lexer": "ipython3",
   "version": "3.7.1"
  }
 },
 "nbformat": 4,
 "nbformat_minor": 2
}
