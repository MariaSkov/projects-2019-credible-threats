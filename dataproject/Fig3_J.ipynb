{
 "cells": [
  {
   "cell_type": "code",
   "execution_count": 11,
   "metadata": {},
   "outputs": [
    {
     "data": {
      "image/png": "[encoded data removed]",
      "text/plain": [
       "<Figure size 432x288 with 1 Axes>"
      ]
     },
     "metadata": {
      "needs_background": "light"
     },
     "output_type": "display_data"
    }
   ],
   "source": [
    "import numpy as np\n",
    "import matplotlib.pyplot as plt\n",
    "import pandas as pd\n",
    "import ipywidgets as widgets\n",
    "import seaborn as sns\n",
    "import math\n",
    "from data_gen import gen_df\n",
    "\n",
    "# Defining function that rounds up to next hundred \n",
    "def roundup(x):\n",
    "    return int(math.ceil(x / 100.0)) * 100\n",
    "\n",
    "def fig3_J(time_var):\n",
    "    # Importing data and making new dataframe\n",
    "    filename = 'imdb.csv'\n",
    "    df = gen_df(filename)\n",
    "    imdb = df.copy()\n",
    "    \n",
    "    # Generate variable that counts number of observation/movies in each year\n",
    "    imdb['temp']=1\n",
    "    imdb['tot_film'] = imdb.groupby(time_var)['temp'].transform(lambda x : x.sum())\n",
    "    del imdb['temp']\n",
    "\n",
    "    # Make new dataframe that only take one value per year. \n",
    "    # The dataframe only contain the year indicator and number of movies in the given year\n",
    "    y = pd.DataFrame(imdb.groupby(time_var)['tot_film'].first())\n",
    "    y.reset_index(inplace=True)\n",
    "    \n",
    "    # Setting max value of y-axis to next hundred of max number of movies\n",
    "    temp = imdb['tot_film'].max()\n",
    "    y_max = roundup(temp)\n",
    "    \n",
    "    # Plotting the number of movies per year    \n",
    "    ax1 = y.plot(x=time_var, y = 'tot_film', color='black', kind='bar', legend=False)\n",
    "    ax1.set_ylabel('Numbers of movies')\n",
    "    ax1.set_title(f'Numbers of movies, 1920-2013')\n",
    "    ax1.set_ylim([0,y_max])\n",
    "    \n",
    "    if time_var == 'year':\n",
    "        # Set labels, so every n'th (here 10) label is shown\n",
    "        n = 10  \n",
    "        [l.set_visible(False) for (i,l) in enumerate(ax1.xaxis.get_ticklabels()) if i % n != 0];\n",
    "\n",
    "fig3_J('year')"
   ]
  },
  {
   "cell_type": "code",
   "execution_count": 14,
   "metadata": {},
   "outputs": [
    {
     "data": {
      "image/png": "[encoded data removed]",
      "text/plain": [
       "<Figure size 432x432 with 1 Axes>"
      ]
     },
     "metadata": {
      "needs_background": "light"
     },
     "output_type": "display_data"
    }
   ],
   "source": [
    "import numpy as np\n",
    "import matplotlib.pyplot as plt\n",
    "import pandas as pd\n",
    "import ipywidgets as widgets\n",
    "import seaborn as sns\n",
    "import math\n",
    "from data_gen import gen_df\n",
    "\n",
    "# Defining function that rounds up to next hundred \n",
    "def roundup(x):\n",
    "    return int(math.ceil(x / 100.0)) * 100\n",
    "\n",
    "def fig3_J(time_var):\n",
    "    # Importing data and making new dataframe\n",
    "    filename = 'imdb.csv'\n",
    "    df = gen_df(filename)\n",
    "    imdb = df.copy()\n",
    "    \n",
    "    # Generate variable that counts number of observation/movies in each year\n",
    "    imdb['temp']=1\n",
    "    imdb['tot_film'] = imdb.groupby(time_var)['temp'].transform(lambda x : x.sum())\n",
    "    del imdb['temp']\n",
    "\n",
    "    # Make new dataframe that only take one value per year. \n",
    "    # The dataframe only contain the year indicator and number of movies in the given year\n",
    "    y = pd.DataFrame(imdb.groupby(time_var)['tot_film'].first())\n",
    "    y.reset_index(inplace=True)\n",
    "    \n",
    "    # Setting max value of y-axis to next hundred of max number of movies\n",
    "    temp = imdb['tot_film'].max()\n",
    "    y_max = roundup(temp)\n",
    "    \n",
    "    # Plotting the number of movies per year\n",
    "    fig = plt.figure(figsize=(6,6))\n",
    "    ax1 = fig.add_subplot(1,1,1)\n",
    "    \n",
    "    ax1.bar(y[time_var], y['tot_film'], color='black')\n",
    "    ax1.set_ylabel('Numbers of movies')\n",
    "    ax1.set_title(f'Numbers of movies, 1920-2013')\n",
    "    ax1.set_ylim([0,y_max])\n",
    "    \n",
    "    if time_var == 'year1':\n",
    "        # Set labels, so every n'th (here 10) label is shown\n",
    "        n = 10  \n",
    "        [l.set_visible(False) for (i,l) in enumerate(ax1.xaxis.get_ticklabels()) if i % n != 0];\n",
    "\n",
    "fig3_J('year')\n",
    "\n",
    "## Gør interaktiv med år eller decade"
   ]
  },
  {
   "cell_type": "code",
   "execution_count": null,
   "metadata": {},
   "outputs": [],
   "source": []
  }
 ],
 "metadata": {
  "kernelspec": {
   "display_name": "Python 3",
   "language": "python",
   "name": "python3"
  },
  "language_info": {
   "codemirror_mode": {
    "name": "ipython",
    "version": 3
   },
   "file_extension": ".py",
   "mimetype": "text/x-python",
   "name": "python",
   "nbconvert_exporter": "python",
   "pygments_lexer": "ipython3",
   "version": "3.7.1"
  }
 },
 "nbformat": 4,
 "nbformat_minor": 2
}
