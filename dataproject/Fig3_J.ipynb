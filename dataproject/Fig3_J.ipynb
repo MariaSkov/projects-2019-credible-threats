{
 "cells": [
  {
   "cell_type": "code",
   "execution_count": 46,
   "metadata": {},
   "outputs": [
    {
     "data": {
      "application/vnd.jupyter.widget-view+json": {
       "model_id": "2a814fbcd4a6443299710a25a772c984",
       "version_major": 2,
       "version_minor": 0
      },
      "text/plain": [
       "interactive(children=(Dropdown(description='Time unit', layout=Layout(width='175px'), options=('year', 'decade…"
      ]
     },
     "metadata": {},
     "output_type": "display_data"
    }
   ],
   "source": [
    "import numpy as np\n",
    "import matplotlib.pyplot as plt\n",
    "import pandas as pd\n",
    "import ipywidgets as widgets\n",
    "import seaborn as sns\n",
    "import math\n",
    "from ipywidgets import Layout\n",
    "from data_gen import gen_df\n",
    "\n",
    "# Defining function that rounds up to next hundred \n",
    "def roundup(x):\n",
    "    return int(math.ceil(x / 100.0)) * 100\n",
    "\n",
    "def fig3_J():\n",
    "    # Importing data and making new dataframe\n",
    "    filename = 'imdb.csv'\n",
    "    df = gen_df(filename)\n",
    "    imdb = df.copy()\n",
    "    \n",
    "    time_var = ('year', 'decade')\n",
    "    decades = [1920, 1930, 1940, 1950, 1960, 1970, 1980, 1990, 2000, 2010]\n",
    "    \n",
    "    def fig(time_var):    \n",
    "        # Generate variable that counts number of observation/movies in each year\n",
    "        imdb['temp']=1\n",
    "        imdb['tot_film'] = imdb.groupby(time_var)['temp'].transform(lambda x : x.sum())\n",
    "        del imdb['temp']\n",
    "\n",
    "        # Make new dataframe that only take one value per year. \n",
    "        # The dataframe only contain the year indicator and number of movies in the given year\n",
    "        y = pd.DataFrame(imdb.groupby(time_var)['tot_film'].first())\n",
    "        y.reset_index(inplace=True)\n",
    "\n",
    "        # Setting max value of y-axis to next hundred of max number of movies\n",
    "        temp = imdb['tot_film'].max()\n",
    "        y_max = roundup(temp)\n",
    "\n",
    "        # Plotting the number of movies per year\n",
    "        fig = plt.figure(figsize=(7,6))\n",
    "        ax1 = fig.add_subplot(1,1,1)\n",
    "\n",
    "        if time_var == 'year':\n",
    "            ax1.bar(y[time_var], y['tot_film'], color='black', width=0.55)\n",
    "        else:\n",
    "            ax1.bar(y[time_var], y['tot_film'], color='black')\n",
    "\n",
    "        ax1.set_ylabel('Numbers of movies')\n",
    "        ax1.set_title(f'Numbers of movies, 1920-2013')\n",
    "        ax1.set_ylim([0,y_max])\n",
    "\n",
    "        if time_var == 'year':            \n",
    "            ax1.set_xticks(decades)\n",
    "            every_nth = 1\n",
    "            for n, label in enumerate(ax1.xaxis.get_ticklabels()):\n",
    "                if n % every_nth != 0:\n",
    "                    label.set_visible(False)\n",
    "\n",
    "    widgets.interact(fig,\n",
    "        time_var = widgets.Dropdown(description='Time unit', value='year', options=time_var, \n",
    "                    layout=Layout(width='175px')),\n",
    "    );    \n",
    "\n",
    "fig3_J()\n",
    "\n"
   ]
  }
 ],
 "metadata": {
  "kernelspec": {
   "display_name": "Python 3",
   "language": "python",
   "name": "python3"
  },
  "language_info": {
   "codemirror_mode": {
    "name": "ipython",
    "version": 3
   },
   "file_extension": ".py",
   "mimetype": "text/x-python",
   "name": "python",
   "nbconvert_exporter": "python",
   "pygments_lexer": "ipython3",
   "version": "3.7.1"
  }
 },
 "nbformat": 4,
 "nbformat_minor": 2
}
