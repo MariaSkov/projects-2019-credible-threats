{
 "cells": [
  {
   "cell_type": "markdown",
   "metadata": {},
   "source": [
    "# Credible Treaths"
   ]
  },
  {
   "cell_type": "markdown",
   "metadata": {},
   "source": [
    "## Calling data"
   ]
  },
  {
   "cell_type": "code",
   "execution_count": null,
   "metadata": {},
   "outputs": [],
   "source": [
    "# import numpy as np\n",
    "import matplotlib.pyplot as plt\n",
    "import pandas as pd\n",
    "import ipywidgets as widgets\n",
    "import numpy as np\n",
    "\n",
    "\n",
    "filename = 'imdb.csv'\n",
    "\n",
    "def gen_df(filename):\n",
    "\n",
    "    # Get .csv.file\n",
    "    data = pd.read_csv(filename, sep=';', encoding='latin-1', escapechar='\\\\')\n",
    "\n",
    "    # Read file into pandas dataframe\n",
    "    df = pd.DataFrame(data)\n",
    "\n",
    "    # Drop unwanted columns\n",
    "    for i in range(44,48):\n",
    "        df.drop(columns=[f'Unnamed: {i}'], inplace=True)\n",
    "\n",
    "    df.drop(columns=['fn','wordsInTitle','url'], inplace=True)\n",
    "\n",
    "    # Keep only observations of movie-type\n",
    "    I = df['type'] == 'video.movie'\n",
    "    df = df.loc[I]\n",
    "    df.drop(columns=['type'], inplace=True)\n",
    "\n",
    "    # Drop observations with missing data\n",
    "    df.dropna(inplace=True)\n",
    "\n",
    "    # Replace 0's in imdb-ratings\n",
    "    df['imdbRating'] = df['imdbRating'].astype(str)\n",
    "    df['imdbRating'].replace(regex=True, inplace=True,to_replace='0',value='')\n",
    "    df['imdbRating'] = df['imdbRating'].astype(float)\n",
    "\n",
    "    # Transform duration from seconds to hours\n",
    "    df['duration'] = df['duration']/60**2\n",
    "\n",
    "    # Drop years before 1920 and 2014 because of few obervations\n",
    "    I = (df['year']>=1920) & (df['year']<=2013)\n",
    "    df = df.loc[I]\n",
    "\n",
    "    # Change the type of 'year' to integer\n",
    "    df['year'] = df['year'].astype(int)    \n",
    "    \n",
    "    # Sort observations and reset index\n",
    "    df.sort_values('year', inplace=True)\n",
    "    df.reset_index(inplace=True)\n",
    "\n",
    "\n",
    "    # Generating variable that shows the decade (as a string)\n",
    "    year_list = [1920, 1930, 1940, 1950, 1960, 1970, 1980, 1990, 2000, 2010]\n",
    "\n",
    "    df['decade'] = ''\n",
    "    for i,start in enumerate(year_list):\n",
    "        end = start+10\n",
    "        df.loc[(df['year'] >= start) & (df['year'] < end), 'decade'] = f'{year_list[i]}s'\n",
    "\n",
    "    return df\n",
    "\n",
    "df = gen_df(filename)\n",
    "\n",
    "df.head(10)"
   ]
  }
 ],
 "metadata": {
  "kernelspec": {
   "display_name": "Python 3",
   "language": "python",
   "name": "python3"
  },
  "language_info": {
   "codemirror_mode": {
    "name": "ipython",
    "version": 3
   },
   "file_extension": ".py",
   "mimetype": "text/x-python",
   "name": "python",
   "nbconvert_exporter": "python",
   "pygments_lexer": "ipython3",
   "version": "3.7.1"
  }
 },
 "nbformat": 4,
 "nbformat_minor": 2
}
