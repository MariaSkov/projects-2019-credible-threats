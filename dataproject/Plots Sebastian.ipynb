{
 "cells": [
  {
   "cell_type": "markdown",
   "metadata": {},
   "source": [
    "# Plots by Sebastian\n",
    "## Plotting genres part of movies pr. year"
   ]
  },
  {
   "cell_type": "markdown",
   "metadata": {},
   "source": [
    "### Importing libraries"
   ]
  },
  {
   "cell_type": "code",
   "execution_count": 5,
   "metadata": {},
   "outputs": [],
   "source": [
    "import matplotlib.pyplot as plt \n",
    "from data_gen import gen_df\n",
    "import numpy as np\n",
    "import ipywidgets as widgets"
   ]
  },
  {
   "cell_type": "markdown",
   "metadata": {},
   "source": [
    "### Generating dataframe from data-file"
   ]
  },
  {
   "cell_type": "code",
   "execution_count": 3,
   "metadata": {},
   "outputs": [],
   "source": [
    "filename = 'imdb.csv'\n",
    "\n",
    "df = gen_df(filename)\n",
    "df['year'] = df['year'].astype(int)"
   ]
  },
  {
   "cell_type": "markdown",
   "metadata": {},
   "source": [
    "### Plotting genres as part of total movies at the year\n",
    "These are generated as:\n",
    "$$\n",
    "\\text{Genre share} = \\frac{\\text{Total movies in genre in year}}{\\text{Total movies in year}}\n",
    "$$"
   ]
  },
  {
   "cell_type": "code",
   "execution_count": 22,
   "metadata": {},
   "outputs": [],
   "source": [
    "# Generate genre list\n",
    "genre_list = list(df)[12:40]"
   ]
  },
  {
   "cell_type": "code",
   "execution_count": 24,
   "metadata": {},
   "outputs": [
    {
     "data": {
      "application/vnd.jupyter.widget-view+json": {
       "model_id": "5a06b46ce6874f30ac390fdb2c8fbeda",
       "version_major": 2,
       "version_minor": 0
      },
      "text/plain": [
       "interactive(children=(SelectMultiple(description='Genres', options=('Action', 'Adult', 'Adventure', 'Animation…"
      ]
     },
     "metadata": {},
     "output_type": "display_data"
    }
   ],
   "source": [
    "def _plot_1(df,genre):\n",
    "    \n",
    "    df['count'] = 1\n",
    "    df['movies_year'] = df.groupby('year')['count'].transform(lambda x: x.sum())  \n",
    "\n",
    "    # Plot year sum of different genres\n",
    "    for i in genre:\n",
    "    #i = genre\n",
    "\n",
    "        df[f'{i}_year'] = df.groupby('year')[i].transform(lambda x: x.sum())\n",
    "        df[f'{i}_share'] = df[f'{i}_year']/df['movies_year']\n",
    "\n",
    "        y_share = df.groupby('year')[f'{i}_share'].first()\n",
    "\n",
    "        #ax = plt.subplot(2,2,j)\n",
    "        y_share.plot(kind='line', sharex='col', sharey='row')\n",
    "\n",
    "        plt.xlabel('year')\n",
    "        plt.ylabel('share of movies')\n",
    "        plt.title(i)\n",
    "        \n",
    "    #plt.show()\n",
    "    \n",
    "def plot_1(df):\n",
    "    \n",
    "    widgets.interact(_plot_1,\n",
    "                    df = widgets.fixed(df),\n",
    "                    genre = widgets.SelectMultiple(\n",
    "                        options = genre_list,\n",
    "                        description = 'Genres',\n",
    "                        disabled = False))\n",
    "    \n",
    "plot_1(df)\n"
   ]
  }
 ],
 "metadata": {
  "kernelspec": {
   "display_name": "Python 3",
   "language": "python",
   "name": "python3"
  },
  "language_info": {
   "codemirror_mode": {
    "name": "ipython",
    "version": 3
   },
   "file_extension": ".py",
   "mimetype": "text/x-python",
   "name": "python",
   "nbconvert_exporter": "python",
   "pygments_lexer": "ipython3",
   "version": "3.7.0"
  }
 },
 "nbformat": 4,
 "nbformat_minor": 2
}
