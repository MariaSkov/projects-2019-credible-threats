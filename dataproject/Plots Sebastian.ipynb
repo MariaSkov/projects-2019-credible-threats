{
 "cells": [
  {
   "cell_type": "markdown",
   "metadata": {},
   "source": [
    "# Plots by Sebastian\n",
    "## Plotting genres part of movies pr. year"
   ]
  },
  {
   "cell_type": "markdown",
   "metadata": {},
   "source": [
    "### Importing libraries"
   ]
  },
  {
   "cell_type": "code",
   "execution_count": 3,
   "metadata": {},
   "outputs": [],
   "source": [
    "import matplotlib.pyplot as plt \n",
    "from data_gen import gen_df\n",
    "import numpy as np\n",
    "import ipywidgets as widgets\n",
    "import requests\n",
    "from bs4 import BeautifulSoup as bs\n",
    "import pandas as pd"
   ]
  },
  {
   "cell_type": "markdown",
   "metadata": {},
   "source": [
    "### Generating dataframe from data-file"
   ]
  },
  {
   "cell_type": "code",
   "execution_count": 26,
   "metadata": {},
   "outputs": [],
   "source": [
    "filename = 'imdb.csv'\n",
    "\n",
    "df = gen_df(filename)"
   ]
  },
  {
   "cell_type": "markdown",
   "metadata": {},
   "source": [
    "### Plotting genres as part of total movies at the year\n",
    "These are generated as:\n",
    "$$\n",
    "\\text{Genre share} = \\frac{\\text{Total movies in genre in year}}{\\text{Total movies in year}}\n",
    "$$"
   ]
  },
  {
   "cell_type": "code",
   "execution_count": 27,
   "metadata": {},
   "outputs": [],
   "source": [
    "# Generate genre list\n",
    "genre_list = list(df)[13:41]"
   ]
  },
  {
   "cell_type": "code",
   "execution_count": 35,
   "metadata": {
    "scrolled": true
   },
   "outputs": [
    {
     "data": {
      "application/vnd.jupyter.widget-view+json": {
       "model_id": "b721c36437124070b81037a4a7b0202d",
       "version_major": 2,
       "version_minor": 0
      },
      "text/plain": [
       "interactive(children=(SelectMultiple(description='Genres', options=('Action', 'Adult', 'Adventure', 'Animation…"
      ]
     },
     "metadata": {},
     "output_type": "display_data"
    }
   ],
   "source": [
    "def genre_share_fig():\n",
    "\n",
    "    def _plot_1(df,genre,timevar):\n",
    "\n",
    "        df['count'] = 1\n",
    "        df['movies_year'] = df.groupby(timevar)['count'].transform(lambda x: x.sum())  \n",
    "\n",
    "        # Plot year sum of different genres\n",
    "        for i in genre:\n",
    "    \n",
    "            # Calculate sum of movies by timevariable, and share of movies within time that is of a certain genre\n",
    "            df[f'{i}_time'] = df.groupby(timevar)[i].transform(lambda x: x.sum())\n",
    "            df[f'{i} share'] = df[f'{i}_time']/df['movies_year']\n",
    "\n",
    "            # Take first element of each timevariable group\n",
    "            y_share = df.groupby(timevar)[f'{i} share'].first()\n",
    "\n",
    "            # Plot the first eleents\n",
    "            y_share.plot(kind='line', sharex='col', sharey='row')\n",
    "\n",
    "\n",
    "            # Add labels and title\n",
    "            plt.xlabel(timevar)\n",
    "            plt.ylabel('share of movies')\n",
    "            if len(genre) == 1:\n",
    "                plt.title(i)\n",
    "            if len(genre) > 1:\n",
    "                plt.legend(loc='upper left')\n",
    "\n",
    "        #plt.show()\n",
    "\n",
    "    def plot_1(df):\n",
    "\n",
    "        widgets.interact(_plot_1,\n",
    "                        df = widgets.fixed(df),\n",
    "                        genre = widgets.SelectMultiple(\n",
    "                            options = genre_list,\n",
    "                            description = 'Genres',\n",
    "                            disabled = False),\n",
    "                        timevar = widgets.Dropdown(\n",
    "                        options = ['year', 'decade'],\n",
    "                        description = 'Timevariable',\n",
    "                        disabled = False))\n",
    "\n",
    "    plot_1(df)\n",
    "\n",
    "genre_share_fig()"
   ]
  },
  {
   "cell_type": "markdown",
   "metadata": {},
   "source": [
    "## Listing top/bottom 5 movies per decade and finding their original titles from IMDb\n",
    "To do this we sort the datasets on imdbRating and select top 5 and bottom 5 from each decade. From this we pull out the id's, and use these to find original titles from IMDb. This is done by using the request-module, which acceses the IMDb-website and finds the title."
   ]
  },
  {
   "cell_type": "code",
   "execution_count": 147,
   "metadata": {},
   "outputs": [],
   "source": [
    "def find_orgnames():\n",
    "\n",
    "    # Condition on minimum number of ratings\n",
    "    I = df['ratingCount'] >= 5000\n",
    "\n",
    "    # Sort top and bottom movies by decade\n",
    "    top = df.sort_values(['decade', 'imdbRating'], ascending=False)[I];\n",
    "    top5_decade = top.groupby('decade').head(5)\n",
    "    bottom = df.sort_values(['decade', 'imdbRating'], ascending=True)[I];\n",
    "    bottom5_decade = bottom.groupby('decade').head(5)\n",
    "\n",
    "    # Get IMDb id's\n",
    "    top5_id = top5_decade.tid.tolist()\n",
    "    bottom5_id = bottom5_decade.tid.tolist()\n",
    "    id5_list = top5_id + bottom5_id \n",
    "\n",
    "    # Initiate list to get names from IMDb\n",
    "    org_names = []\n",
    "\n",
    "    # Get original names from IMDb using requests\n",
    "    for i,id in enumerate(id5_list):\n",
    "        test = requests.get('https://www.imdb.com/title/' + id)\n",
    "        soup = bs(test.text,'html.parser')\n",
    "        if soup.find('div',class_='originalTitle') != None:\n",
    "            org_names.append(soup.find('div',class_='originalTitle').text)\n",
    "        else:\n",
    "            org_names.append(soup.find('h1').text)\n",
    "            \n",
    "    return org_names"
   ]
  },
  {
   "cell_type": "code",
   "execution_count": 149,
   "metadata": {},
   "outputs": [
    {
     "name": "stderr",
     "output_type": "stream",
     "text": [
      "c:\\python\\python37-32\\lib\\site-packages\\ipykernel_launcher.py:7: UserWarning: Boolean Series key will be reindexed to match DataFrame index.\n",
      "  import sys\n",
      "c:\\python\\python37-32\\lib\\site-packages\\ipykernel_launcher.py:9: UserWarning: Boolean Series key will be reindexed to match DataFrame index.\n",
      "  if __name__ == '__main__':\n"
     ]
    },
    {
     "name": "stdout",
     "output_type": "stream",
     "text": [
      "\n",
      "\n",
      "The top 5 movies of the 1920s are: \n",
      "The Kid                                  with rating: 8.4\n",
      "Chelovek s kino-apparatom                with rating: 8.4\n",
      "Sunrise: A Song of Two Humans            with rating: 8.4\n",
      "Metropolis                               with rating: 8.4\n",
      "Safety Last!                             with rating: 8.3\n",
      "\n",
      "The bottom 5 movies of the 1920s are: \n",
      "Greed                                    with rating: 7.8\n",
      "Nanook of the North                      with rating: 7.8\n",
      "The Lodger: A Story of the London Fog    with rating: 7.4\n",
      "Blackmail                                with rating: 7.1\n",
      "The Jazz Singer                          with rating: 6.9\n",
      "\n",
      "The top 5 movies of the 1930s are: \n",
      "City Lights                              with rating: 8.7\n",
      "Modern Times                             with rating: 8.6\n",
      "M - Eine Stadt sucht einen Mörder        with rating: 8.5\n",
      "Mr. Smith Goes to Washington             with rating: 8.4\n",
      "It Happened One Night                    with rating: 8.3\n",
      "\n",
      "The bottom 5 movies of the 1930s are: \n",
      "Young and Innocent                       with rating: 7.1\n",
      "The Man Who Knew Too Much                with rating: 6.9\n",
      "Secret Agent                             with rating: 6.7\n",
      "White Zombie                             with rating: 6.5\n",
      "Jamaica Inn                              with rating: 6.3\n",
      "\n",
      "The top 5 movies of the 1940s are: \n",
      "It's a Wonderful Life                    with rating: 8.7\n",
      "Casablanca                               with rating: 8.6\n",
      "Double Indemnity                         with rating: 8.5\n",
      "The Great Dictator                       with rating: 8.5\n",
      "Citizen Kane                             with rating: 8.5\n",
      "\n",
      "The bottom 5 movies of the 1940s are: \n",
      "3 Godfathers                             with rating: 7.2\n",
      "Duel in the Sun                          with rating: 6.9\n",
      "Dr. Jekyll and Mr. Hyde                  with rating: 6.9\n",
      "The Paradine Case                        with rating: 6.6\n",
      "The Three Caballeros                     with rating: 6.6\n",
      "\n",
      "The top 5 movies of the 1950s are: \n",
      "12 Angry Men                             with rating: 8.9\n",
      "Shichinin no samurai                     with rating: 8.8\n",
      "Rear Window                              with rating: 8.6\n",
      "Sunset Blvd.                             with rating: 8.6\n",
      "Duck Amuck                               with rating: 8.5\n",
      "\n",
      "The bottom 5 movies of the 1950s are: \n",
      "The Greatest Show on Earth               with rating: 6.7\n",
      "Tarantula                                with rating: 6.5\n",
      "The Blob                                 with rating: 6.4\n",
      "This Island Earth                        with rating: 5.8\n",
      "Plan 9 from Outer Space                  with rating: 3.9\n",
      "\n",
      "The top 5 movies of the 1960s are: \n",
      "Il buono, il brutto, il cattivo          with rating: 9.0\n",
      "C'era una volta il West                  with rating: 8.7\n",
      "Psycho                                   with rating: 8.6\n",
      "Seppuku                                  with rating: 8.6\n",
      "Dr. Strangelove or: How I Learned to Stop Worrying and Love the Bomb  with rating: 8.6\n",
      "\n",
      "The bottom 5 movies of the 1960s are: \n",
      "What's New Pussycat                      with rating: 6.3\n",
      "Topaz                                    with rating: 6.3\n",
      "Barbarella                               with rating: 5.9\n",
      "The Green Berets                         with rating: 5.6\n",
      "Casino Royale                            with rating: 5.2\n",
      "\n",
      "The top 5 movies of the 1970s are: \n",
      "The Godfather                            with rating: 9.2\n",
      "The Godfather: Part II                   with rating: 9.1\n",
      "One Flew Over the Cuckoo's Nest          with rating: 8.8\n",
      "Anand                                    with rating: 8.8\n",
      "Star Wars                                with rating: 8.7\n",
      "\n",
      "The bottom 5 movies of the 1970s are: \n",
      "Battle for the Planet of the Apes        with rating: 5.4\n",
      "Airport 1975                             with rating: 5.4\n",
      "Caligola                                 with rating: 5.2\n",
      "The Wiz                                  with rating: 5.1\n",
      "Exorcist II: The Heretic                 with rating: 3.7\n",
      "\n",
      "The top 5 movies of the 1980s are: \n",
      "Star Wars: Episode V - The Empire Strikes Back  with rating: 8.8\n",
      "Raiders of the Lost Ark                  with rating: 8.6\n",
      "The Shining                              with rating: 8.5\n",
      "Das Boot                                 with rating: 8.5\n",
      "Vincent                                  with rating: 8.5\n",
      "\n",
      "The bottom 5 movies of the 1980s are: \n",
      "Mac and Me                               with rating: 3.4\n",
      "Smokey and the Bandit Part 3             with rating: 3.2\n",
      "Jaws: The Revenge                        with rating: 2.8\n",
      "Leonard Part 6                           with rating: 2.3\n",
      "Going Overboard                          with rating: 1.9\n",
      "\n",
      "The top 5 movies of the 1990s are: \n",
      "The Shawshank Redemption                 with rating: 9.3\n",
      "The Godfather Trilogy: 1901-1980         with rating: 9.0\n",
      "Pulp Fiction                             with rating: 9.0\n",
      "Fight Club                               with rating: 8.9\n",
      "Schindler's List                         with rating: 8.9\n",
      "\n",
      "The bottom 5 movies of the 1990s are: \n",
      "Die unendliche Geschichte III: Rettung aus Phantasien  with rating: 3.0\n",
      "Cool as Ice                              with rating: 2.8\n",
      "Steel                                    with rating: 2.7\n",
      "Troll 2                                  with rating: 2.6\n",
      "Santa with Muscles                       with rating: 2.3\n",
      "\n",
      "The top 5 movies of the 2000s are: \n",
      "The Dark Knight                          with rating: 9.0\n",
      "The Lord of the Rings: The Fellowship of the Ring  with rating: 8.9\n",
      "The Lord of the Rings: The Return of the King  with rating: 8.9\n",
      "The Lord of the Rings: The Two Towers    with rating: 8.8\n",
      "Cidade de Deus                           with rating: 8.7\n",
      "\n",
      "The bottom 5 movies of the 2000s are: \n",
      "Son of the Mask                          with rating: 2.1\n",
      "Pledge This!                             with rating: 2.0\n",
      "The Hottie & the Nottie                  with rating: 1.9\n",
      "Disaster Movie                           with rating: 1.9\n",
      "Superbabies: Baby Geniuses 2             with rating: 1.9\n",
      "\n",
      "The top 5 movies of the 2010s are: \n",
      "Inception                                with rating: 8.8\n",
      "Senna                                    with rating: 8.6\n",
      "Intouchables                             with rating: 8.6\n",
      "The Dark Knight Rises                    with rating: 8.6\n",
      "Toy Story 3                              with rating: 8.5\n",
      "\n",
      "The bottom 5 movies of the 2010s are: \n",
      "Vampires Suck                            with rating: 3.5\n",
      "Sharknado                                with rating: 3.3\n",
      "Bucky Larson: Born to Be a Star          with rating: 3.2\n",
      "The Starving Games                       with rating: 3.2\n",
      "Tees Maar Khan                           with rating: 2.5\n"
     ]
    }
   ],
   "source": [
    "def top_bottom_list():\n",
    "\n",
    "    # Runs function, which finds original names by requests\n",
    "    org_names = find_orgnames()\n",
    "    \n",
    "    # Merge original names with data\n",
    "    df_merge_1 = pd.DataFrame(i for i in org_names) # Names\n",
    "    df_merge_2 = pd.DataFrame(i for i in id5_list) # ID\n",
    "    df_merge = df_merge_1.merge(df_merge_2, left_index=True, right_index=True) # Set names and ID together\n",
    "    df_merge = df_merge.rename(columns={'0_x': 'org_title', '0_y': 'tid'}) # Rename for merge\n",
    "\n",
    "    text = ''\n",
    "\n",
    "    # Merge with data\n",
    "    top_bottom = df.merge(df_merge, how='inner', on='tid')\n",
    "    top_bottom['org_title'] = top_bottom['org_title'].str.split('\\(').str[0] # Remove parenthesis with years\n",
    "    grouped = top_bottom[['org_title','imdbRating','decade']].sort_values('imdbRating', ascending=False).reset_index(drop=True).groupby('decade')\n",
    "\n",
    "    # Prints solution\n",
    "    for name, group in grouped:\n",
    "        text += '\\n\\n'\n",
    "        text += f'The top 5 movies of the {name} are: '\n",
    "        name_list = group.org_title.tolist()\n",
    "        rating_list = group.imdbRating.tolist()\n",
    "        for j,i in enumerate(name_list):\n",
    "            if j < 5:\n",
    "                text += '\\n'\n",
    "                text += f'{i:<40} with rating: {rating_list[j]}'\n",
    "            if j == 5:\n",
    "                text += '\\n\\n'\n",
    "                text += f'The bottom 5 movies of the {name} are: \\n'\n",
    "                text += f'{i:<40} with rating: {rating_list[j]}'\n",
    "            if j > 5:\n",
    "                text += '\\n'\n",
    "                text += f'{i:<40} with rating: {rating_list[j]}'   \n",
    "\n",
    "    print(text)\n",
    "    \n",
    "top_bottom_list()"
   ]
  },
  {
   "cell_type": "markdown",
   "metadata": {},
   "source": [
    "## Counting number of newsarticles and movies per decade, and newsarticles relative to \\# of movies "
   ]
  },
  {
   "cell_type": "code",
   "execution_count": 16,
   "metadata": {},
   "outputs": [
    {
     "data": {
      "image/png": "[encoded data removed]",
      "text/plain": [
       "<Figure size 432x288 with 3 Axes>"
      ]
     },
     "metadata": {
      "needs_background": "light"
     },
     "output_type": "display_data"
    }
   ],
   "source": [
    "def news_pr_movie_fig():\n",
    "\n",
    "    df['dummy'] = 1\n",
    "\n",
    "    # Count number of news articles\n",
    "    def total_news(x):\n",
    "        d = x['nrOfNewsArticles'].sum()\n",
    "        return pd.Series(d, index = ['Total number of news'])\n",
    "\n",
    "    # Count number of movies\n",
    "    def total_movies(x):\n",
    "        d = x['dummy'].sum()\n",
    "        return pd.Series(d, index = ['Total number of movies'])\n",
    "\n",
    "    # Find news pr. movie\n",
    "    def news_pr_movie(x):\n",
    "        d = np.array(x['nrOfNewsArticles'].sum()/x['dummy'].sum())\n",
    "        return pd.Series(d, index = ['news Pr Movie'])\n",
    "\n",
    "    # Variables for plots\n",
    "    x = df.groupby('decade').apply(total_news)\n",
    "    z = df.groupby('decade').apply(news_pr_movie)\n",
    "    y = df.groupby('decade').apply(total_movies)\n",
    "\n",
    "    # Start subplot\n",
    "    f, (fig1,fig2,fig3) = plt.subplots(3,1,sharex=True)\n",
    "    f.subplots_adjust(hspace=0.2,right=1,top=2)\n",
    "\n",
    "    # Plot the data\n",
    "    fig1.plot(x)\n",
    "    fig1.set_title('Total news')\n",
    "    fig2.plot(y)\n",
    "    fig2.set_title('Total movies')\n",
    "    fig3.plot(z)\n",
    "    fig3.set_title('News pr. movie');\n",
    "\n",
    "news_pr_movie_fig()\n"
   ]
  },
  {
   "cell_type": "markdown",
   "metadata": {},
   "source": [
    "## Finding correlation between newsarticles and rating"
   ]
  },
  {
   "cell_type": "code",
   "execution_count": 25,
   "metadata": {},
   "outputs": [
    {
     "data": {
      "image/png": "[encoded data removed]",
      "text/plain": [
       "<Figure size 432x288 with 1 Axes>"
      ]
     },
     "metadata": {
      "needs_background": "light"
     },
     "output_type": "display_data"
    }
   ],
   "source": [
    "def corr_pr_decade():\n",
    "    \n",
    "    text = 'Correlation between award wins and news articles: \\n'\n",
    "    text += 'For all years: \\n'\n",
    "    text += str(round(df[['imdbRating','nrOfNewsArticles']].corr().iloc[0,1],3))\n",
    "    \n",
    "    decade_list = []\n",
    "    corr_list = []\n",
    "    \n",
    "    for i in df.decade.unique():\n",
    "    \n",
    "        I = df['decade'] == i\n",
    "        df_temp = df[I]\n",
    "        \n",
    "        text += '\\n\\n'\n",
    "        text += f'For {i}: \\n'\n",
    "        text += str(round(df_temp[['imdbRating','nrOfNewsArticles']].corr().iloc[0,1],3))\n",
    "        \n",
    "        decade_list.append(i)\n",
    "        corr_list.append(round(df_temp[['imdbRating','nrOfNewsArticles']].corr().iloc[0,1],3))\n",
    "        \n",
    "    plt.bar(decade_list,corr_list)\n",
    "    plt.ylabel('Correlation between IMDb rating and nr. of newsarticles')\n",
    "    \n",
    "corr_pr_decade()\n"
   ]
  }
 ],
 "metadata": {
  "kernelspec": {
   "display_name": "Python 3",
   "language": "python",
   "name": "python3"
  },
  "language_info": {
   "codemirror_mode": {
    "name": "ipython",
    "version": 3
   },
   "file_extension": ".py",
   "mimetype": "text/x-python",
   "name": "python",
   "nbconvert_exporter": "python",
   "pygments_lexer": "ipython3",
   "version": "3.7.0"
  }
 },
 "nbformat": 4,
 "nbformat_minor": 2
}
